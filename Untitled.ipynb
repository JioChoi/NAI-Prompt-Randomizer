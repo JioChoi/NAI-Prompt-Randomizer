{
 "cells": [
  {
   "cell_type": "code",
   "execution_count": 3,
   "id": "495fe2fd",
   "metadata": {
    "scrolled": true
   },
   "outputs": [
    {
     "name": "stdout",
     "output_type": "stream",
     "text": [
      "\u001b[33mDEPRECATION: Configuring installation scheme with distutils config files is deprecated and will no longer work in the near future. If you are using a Homebrew or Linuxbrew Python, please see discussion at https://github.com/Homebrew/homebrew-core/issues/76621\u001b[0m\u001b[33m\n",
      "\u001b[0mRequirement already satisfied: datasets in /opt/homebrew/lib/python3.9/site-packages (2.16.1)\n",
      "Requirement already satisfied: filelock in /Users/jiochoi/Library/Python/3.9/lib/python/site-packages (from datasets) (3.9.0)\n",
      "Requirement already satisfied: numpy>=1.17 in /Users/jiochoi/Library/Python/3.9/lib/python/site-packages (from datasets) (1.23.5)\n",
      "Requirement already satisfied: pyarrow>=8.0.0 in /opt/homebrew/lib/python3.9/site-packages (from datasets) (14.0.2)\n",
      "Requirement already satisfied: pyarrow-hotfix in /opt/homebrew/lib/python3.9/site-packages (from datasets) (0.6)\n",
      "Requirement already satisfied: dill<0.3.8,>=0.3.0 in /opt/homebrew/lib/python3.9/site-packages (from datasets) (0.3.7)\n",
      "Requirement already satisfied: pandas in /opt/homebrew/lib/python3.9/site-packages (from datasets) (1.5.2)\n",
      "Requirement already satisfied: requests>=2.19.0 in /Users/jiochoi/Library/Python/3.9/lib/python/site-packages (from datasets) (2.28.2)\n",
      "Requirement already satisfied: tqdm>=4.62.1 in /Users/jiochoi/Library/Python/3.9/lib/python/site-packages (from datasets) (4.64.1)\n",
      "Requirement already satisfied: xxhash in /opt/homebrew/lib/python3.9/site-packages (from datasets) (3.4.1)\n",
      "Requirement already satisfied: multiprocess in /opt/homebrew/lib/python3.9/site-packages (from datasets) (0.70.15)\n",
      "Requirement already satisfied: fsspec<=2023.10.0,>=2023.1.0 in /opt/homebrew/lib/python3.9/site-packages (from fsspec[http]<=2023.10.0,>=2023.1.0->datasets) (2023.10.0)\n",
      "Requirement already satisfied: aiohttp in /opt/homebrew/lib/python3.9/site-packages (from datasets) (3.9.1)\n",
      "Requirement already satisfied: huggingface-hub>=0.19.4 in /opt/homebrew/lib/python3.9/site-packages (from datasets) (0.20.2)\n",
      "Requirement already satisfied: packaging in /Users/jiochoi/Library/Python/3.9/lib/python/site-packages (from datasets) (23.0)\n",
      "Requirement already satisfied: pyyaml>=5.1 in /Users/jiochoi/Library/Python/3.9/lib/python/site-packages (from datasets) (6.0)\n",
      "Requirement already satisfied: attrs>=17.3.0 in /opt/homebrew/lib/python3.9/site-packages (from aiohttp->datasets) (22.2.0)\n",
      "Requirement already satisfied: multidict<7.0,>=4.5 in /opt/homebrew/lib/python3.9/site-packages (from aiohttp->datasets) (6.0.4)\n",
      "Requirement already satisfied: yarl<2.0,>=1.0 in /opt/homebrew/lib/python3.9/site-packages (from aiohttp->datasets) (1.9.4)\n",
      "Requirement already satisfied: frozenlist>=1.1.1 in /opt/homebrew/lib/python3.9/site-packages (from aiohttp->datasets) (1.4.1)\n",
      "Requirement already satisfied: aiosignal>=1.1.2 in /opt/homebrew/lib/python3.9/site-packages (from aiohttp->datasets) (1.3.1)\n",
      "Requirement already satisfied: async-timeout<5.0,>=4.0 in /opt/homebrew/lib/python3.9/site-packages (from aiohttp->datasets) (4.0.3)\n",
      "Requirement already satisfied: typing-extensions>=3.7.4.3 in /Users/jiochoi/Library/Python/3.9/lib/python/site-packages (from huggingface-hub>=0.19.4->datasets) (4.4.0)\n",
      "Requirement already satisfied: charset-normalizer<4,>=2 in /Users/jiochoi/Library/Python/3.9/lib/python/site-packages (from requests>=2.19.0->datasets) (3.0.1)\n",
      "Requirement already satisfied: idna<4,>=2.5 in /Users/jiochoi/Library/Python/3.9/lib/python/site-packages (from requests>=2.19.0->datasets) (3.4)\n",
      "Requirement already satisfied: urllib3<1.27,>=1.21.1 in /Users/jiochoi/Library/Python/3.9/lib/python/site-packages (from requests>=2.19.0->datasets) (1.26.14)\n",
      "Requirement already satisfied: certifi>=2017.4.17 in /Users/jiochoi/Library/Python/3.9/lib/python/site-packages (from requests>=2.19.0->datasets) (2022.12.7)\n",
      "Requirement already satisfied: python-dateutil>=2.8.1 in /opt/homebrew/lib/python3.9/site-packages (from pandas->datasets) (2.8.2)\n",
      "Requirement already satisfied: pytz>=2020.1 in /opt/homebrew/lib/python3.9/site-packages (from pandas->datasets) (2022.7)\n",
      "Requirement already satisfied: six>=1.5 in /opt/homebrew/lib/python3.9/site-packages (from python-dateutil>=2.8.1->pandas->datasets) (1.16.0)\n",
      "\u001b[33mDEPRECATION: Configuring installation scheme with distutils config files is deprecated and will no longer work in the near future. If you are using a Homebrew or Linuxbrew Python, please see discussion at https://github.com/Homebrew/homebrew-core/issues/76621\u001b[0m\u001b[33m\n",
      "\u001b[0m\n",
      "\u001b[1m[\u001b[0m\u001b[34;49mnotice\u001b[0m\u001b[1;39;49m]\u001b[0m\u001b[39;49m A new release of pip is available: \u001b[0m\u001b[31;49m23.3.1\u001b[0m\u001b[39;49m -> \u001b[0m\u001b[32;49m23.3.2\u001b[0m\n",
      "\u001b[1m[\u001b[0m\u001b[34;49mnotice\u001b[0m\u001b[1;39;49m]\u001b[0m\u001b[39;49m To update, run: \u001b[0m\u001b[32;49mpython3.9 -m pip install --upgrade pip\u001b[0m\n"
     ]
    }
   ],
   "source": [
    "!pip install datasets"
   ]
  },
  {
   "cell_type": "code",
   "execution_count": 4,
   "id": "00007ad7",
   "metadata": {},
   "outputs": [],
   "source": [
    "from datasets import load_dataset\n",
    "\n",
    "dataset = load_dataset(\n",
    "    \"isek-ai/danbooru-tags-2016-2023\",\n",
    "    \"all\", # or \"all\"\n",
    "    split=\"train\",\n",
    ")"
   ]
  },
  {
   "cell_type": "code",
   "execution_count": 5,
   "id": "1f4881ec",
   "metadata": {},
   "outputs": [
    {
     "name": "stdout",
     "output_type": "stream",
     "text": [
      "4488788\n"
     ]
    }
   ],
   "source": [
    "print(len(dataset))"
   ]
  },
  {
   "cell_type": "code",
   "execution_count": 6,
   "id": "b1ea4e08",
   "metadata": {},
   "outputs": [
    {
     "name": "stdout",
     "output_type": "stream",
     "text": [
      "0.0%\n",
      "2.227772842023281%\n",
      "4.455545684046562%\n",
      "6.683318526069844%\n",
      "8.911091368093125%\n",
      "11.138864210116406%\n",
      "13.366637052139687%\n",
      "15.594409894162967%\n",
      "17.82218273618625%\n",
      "20.04995557820953%\n",
      "22.277728420232812%\n",
      "24.505501262256093%\n",
      "26.733274104279374%\n",
      "28.961046946302655%\n",
      "31.188819788325933%\n",
      "33.416592630349214%\n",
      "35.6443654723725%\n",
      "37.872138314395784%\n",
      "40.09991115641906%\n",
      "42.32768399844234%\n",
      "44.555456840465624%\n",
      "46.7832296824889%\n",
      "49.011002524512186%\n",
      "51.238775366535464%\n",
      "53.46654820855875%\n",
      "55.69432105058203%\n",
      "57.92209389260531%\n",
      "60.14986673462859%\n",
      "62.377639576651866%\n",
      "64.60541241867516%\n",
      "66.83318526069843%\n",
      "69.06095810272171%\n",
      "71.288730944745%\n",
      "73.51650378676827%\n",
      "75.74427662879157%\n",
      "77.97204947081484%\n",
      "80.19982231283812%\n",
      "82.4275951548614%\n",
      "84.65536799688468%\n",
      "86.88314083890796%\n",
      "89.11091368093125%\n",
      "91.33868652295453%\n",
      "93.5664593649778%\n",
      "95.79423220700109%\n",
      "98.02200504902437%\n"
     ]
    }
   ],
   "source": [
    "## GENERATE tags.csv\n",
    "\n",
    "f = open(\"out/tags.csv\", 'w')\n",
    "\n",
    "size = len(dataset)\n",
    "for i in range(0, size):\n",
    "  temp = dataset[i]\n",
    "  prompt = \"\";\n",
    "\n",
    "  artist = temp['artist']\n",
    "  if artist != None:\n",
    "    prompt += artist + \", \"\n",
    "\n",
    "  character = temp['character']\n",
    "  if character != None:\n",
    "    prompt += character + \", \"\n",
    "\n",
    "  general = temp['general']\n",
    "  if general != None:\n",
    "    prompt += general + \"\\n\"\n",
    "    f.write(prompt)\n",
    "\n",
    "  if i % 100000 == 0:\n",
    "    print(str(i / size * 100) + \"%\")\n",
    "\n",
    "f.close()"
   ]
  },
  {
   "cell_type": "code",
   "execution_count": 19,
   "id": "2c8d4d7d",
   "metadata": {},
   "outputs": [
    {
     "name": "stdout",
     "output_type": "stream",
     "text": [
      "0.0%\n",
      "2.227772842023281%\n",
      "4.455545684046562%\n",
      "6.683318526069844%\n",
      "8.911091368093125%\n",
      "11.138864210116406%\n",
      "13.366637052139687%\n",
      "15.594409894162967%\n",
      "17.82218273618625%\n",
      "20.04995557820953%\n",
      "22.277728420232812%\n",
      "24.505501262256093%\n",
      "26.733274104279374%\n",
      "28.961046946302655%\n",
      "31.188819788325933%\n",
      "33.416592630349214%\n",
      "35.6443654723725%\n",
      "37.872138314395784%\n",
      "40.09991115641906%\n",
      "42.32768399844234%\n",
      "44.555456840465624%\n",
      "46.7832296824889%\n",
      "49.011002524512186%\n",
      "51.238775366535464%\n",
      "53.46654820855875%\n",
      "55.69432105058203%\n",
      "57.92209389260531%\n",
      "60.14986673462859%\n",
      "62.377639576651866%\n",
      "64.60541241867516%\n",
      "66.83318526069843%\n",
      "69.06095810272171%\n",
      "71.288730944745%\n",
      "73.51650378676827%\n",
      "75.74427662879157%\n",
      "77.97204947081484%\n",
      "80.19982231283812%\n",
      "82.4275951548614%\n",
      "84.65536799688468%\n",
      "86.88314083890796%\n",
      "89.11091368093125%\n",
      "91.33868652295453%\n",
      "93.5664593649778%\n",
      "95.79423220700109%\n",
      "98.02200504902437%\n"
     ]
    }
   ],
   "source": [
    "## Generate dictionary\n",
    "\n",
    "size = len(dataset)\n",
    "index = 0\n",
    "\n",
    "positions = dict()\n",
    "\n",
    "for i in range(0, size):\n",
    "    temp = dataset[i]\n",
    "    prompt = ''\n",
    "\n",
    "    artist = temp['artist']\n",
    "    if artist != None:\n",
    "        prompt += artist + ', '\n",
    "\n",
    "    character = temp['character']\n",
    "    if character != None:\n",
    "        prompt += character + ', '\n",
    "\n",
    "    general = temp['general']\n",
    "    if general != None:\n",
    "        prompt += general\n",
    "\n",
    "        tags = prompt.split(',')\n",
    "        for tag in tags:\n",
    "            tag = tag.strip()\n",
    "            if positions.get(tag) == None:\n",
    "                positions[tag] = list();\n",
    "                \n",
    "            positions[tag].append(index)\n",
    "            \n",
    "        index += len(prompt)\n",
    "\n",
    "    if i % 100000 == 0:\n",
    "        print(str(i / size * 100) + '%')"
   ]
  },
  {
   "cell_type": "code",
   "execution_count": 50,
   "id": "ac1350f0",
   "metadata": {},
   "outputs": [
    {
     "name": "stdout",
     "output_type": "stream",
     "text": [
      "00004a3e\n"
     ]
    }
   ],
   "source": [
    "import binascii\n",
    "\n",
    "t = hex(19006)[2:].zfill(8)\n",
    "print(t)\n",
    "\n",
    "# f = open('out/test.txt', 'wb')\n",
    "# print(binascii.unhexlify(t))\n",
    "# f.write(binascii.unhexlify(t))\n",
    "# f.close()"
   ]
  },
  {
   "cell_type": "code",
   "execution_count": 43,
   "id": "c8716dc6",
   "metadata": {},
   "outputs": [],
   "source": [
    "listedPos = list(positions.items())\n",
    "listedPos = sorted(listedPos, key=lambda x:len(x[1]), reverse=True)"
   ]
  },
  {
   "cell_type": "code",
   "execution_count": 51,
   "id": "966bdfa8",
   "metadata": {},
   "outputs": [],
   "source": [
    "## Generate pos.csv and key.csv\n",
    "\n",
    "pos = open('out/pos.csv', 'wb') ## Index of tags.csv\n",
    "key = open('out/key.csv', 'w') ## Index of pos.csv\n",
    "\n",
    "index = 0\n",
    "\n",
    "for temp in listedPos:\n",
    "    key.write(temp[0] + \"|\" + str(index) + \"\\n\")\n",
    "    \n",
    "    for i in temp[1]:\n",
    "        hexed = hex(i)[2:].zfill(8)\n",
    "        pos.write(binascii.unhexlify(hexed))\n",
    "        index += 1 ## MUST *8 TO GET INDEX\n",
    "    \n",
    "pos.close()\n",
    "key.close()"
   ]
  },
  {
   "cell_type": "code",
   "execution_count": 48,
   "id": "3f0f92b4",
   "metadata": {},
   "outputs": [],
   "source": [
    "test = open('out/test.txt', 'wb')\n",
    "test.write(\"trying\".encode('utf-8'))\n",
    "test.close()"
   ]
  },
  {
   "cell_type": "code",
   "execution_count": null,
   "id": "ae81031a",
   "metadata": {},
   "outputs": [],
   "source": []
  }
 ],
 "metadata": {
  "kernelspec": {
   "display_name": "Python 3 (ipykernel)",
   "language": "python",
   "name": "python3"
  },
  "language_info": {
   "codemirror_mode": {
    "name": "ipython",
    "version": 3
   },
   "file_extension": ".py",
   "mimetype": "text/x-python",
   "name": "python",
   "nbconvert_exporter": "python",
   "pygments_lexer": "ipython3",
   "version": "3.9.18"
  }
 },
 "nbformat": 4,
 "nbformat_minor": 5
}
